{
 "cells": [
  {
   "cell_type": "code",
   "execution_count": null,
   "metadata": {},
   "outputs": [],
   "source": [
    "# import modules\n",
    "\n",
    "import matplotlib.pyplot as plt\n",
    "import numpy as np"
   ]
  },
  {
   "cell_type": "code",
   "execution_count": null,
   "metadata": {},
   "outputs": [],
   "source": [
    "# load the image file\n",
    "data = np.fromfile(\"mandelbrot-image.bin\", dtype=np.int32)\n",
    "print(f\"data size: {data.size}\")\n",
    "\n",
    "# resize the image\n",
    "resized_data = np.resize(data, (800, 1200))\n",
    "print(f\"resized_data: {resized_data.shape}, dtype: {resized_data.dtype}\")\n",
    "\n",
    "# show the image\n",
    "plt.imshow(resized_data)"
   ]
  }
 ],
 "metadata": {
  "kernelspec": {
   "display_name": "base",
   "language": "python",
   "name": "python3"
  },
  "language_info": {
   "codemirror_mode": {
    "name": "ipython",
    "version": 3
   },
   "file_extension": ".py",
   "mimetype": "text/x-python",
   "name": "python",
   "nbconvert_exporter": "python",
   "pygments_lexer": "ipython3",
   "version": "3.9.12"
  },
  "orig_nbformat": 4,
  "vscode": {
   "interpreter": {
    "hash": "88b78e51f3c14ce30a2d9140a12930f3844652caceef2256c35621be48397e78"
   }
  }
 },
 "nbformat": 4,
 "nbformat_minor": 2
}
